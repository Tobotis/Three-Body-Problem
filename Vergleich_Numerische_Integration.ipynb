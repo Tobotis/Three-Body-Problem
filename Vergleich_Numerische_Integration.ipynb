{
  "nbformat": 4,
  "nbformat_minor": 0,
  "metadata": {
    "colab": {
      "provenance": []
    },
    "kernelspec": {
      "name": "python3",
      "display_name": "Python 3"
    },
    "language_info": {
      "name": "python"
    }
  },
  "cells": [
    {
      "cell_type": "markdown",
      "source": [
        "# Vergleich: Numerische Integration\n",
        "Dieses Notebook ist eine Beilage zur Facharbeit: *Vergleich numerischer Verfahren zur Modellierung des Dreikörperproblems*  \n",
        "---\n",
        "In diesem Notebook sollen verschiedene numerische Methoden zum Integrieren einer Differentialgleichung eingesetzt werden: \n",
        "1. $y' = f(x,y) = cos(x)$  \n",
        "Lösung:\n",
        "$y=sin(x)$.  \n",
        "2. $y' = f(x,y) = e^{cos(x)} \\cdot (2x \\cdot cos(x) - sin(x) \\cdot sin(x^2))$  \n",
        "Lösung:\n",
        "$y=e^{cos(x)} \\cdot sin(x^2)$.  \n",
        "---\n",
        "Folgende Verfahren sollen dabei zum Einsatz kommen und in ihrer Genauigkeit verglichen werden:\n",
        "\n",
        "*   Euler-Verfahren\n",
        "*   Euler-Cromer-Verfahren\n",
        "*   Heun-Verfahren\n",
        "*   Runge-Kutta 2er Ordnung\n",
        "*   Runge-Kutta 4er Ordnung\n",
        "*   Bulirsch-Stoer-Verfahren\n",
        "---\n",
        "Im Folgenden wird die Schrittweite $h$, die Funktion $y(x)$, die Ableitung $f(x,y)$ und die Iteration mit $i$ dargestellt. Eine Erklärung zu den Verfahren befindet sich in der Facharbeit. Alle Verfahren, bis auf das Bulirsch-Stoer-Verfahren, wurden vollständig ohne Hilfe implementiert. Beim Bulirsch-Stoer-Verfahren, diente das Buch \"*Numerical Methods in Engineering with Python 3*\" (*Jaan Kiusalaas*) als Stütze."
      ],
      "metadata": {
        "id": "Gk2ttAkc9lUI"
      }
    },
    {
      "cell_type": "code",
      "source": [
        "from mpmath import * # Nutzung von Hoch-Präzisions-Arithmetik (siehe https://mpmath.org/)"
      ],
      "metadata": {
        "id": "nd3y4chpDUKR"
      },
      "execution_count": null,
      "outputs": []
    },
    {
      "cell_type": "markdown",
      "source": [
        "## Euler-Verfahren\n",
        "$$y_{i+1} = y_i+ hf(x_i,y_i)$$"
      ],
      "metadata": {
        "id": "5X5mLPfkAB81"
      }
    },
    {
      "cell_type": "code",
      "execution_count": null,
      "metadata": {
        "id": "ad7FlmFd9gsu"
      },
      "outputs": [],
      "source": [
        "# f: DGL\n",
        "# startPoint: (x,y) Anfangswertepaar\n",
        "# stepSize: Schrittegröße\n",
        "# steps: Anzahl an Schritten\n",
        "def eulerMethod(f,startPoint,stepSize,steps):\n",
        "  # Liste an Punkten: [(x0,y0),...,(xn,yn)]\n",
        "  result = [startPoint,]\n",
        "  # Aktuelle Approximierung\n",
        "  pi = startPoint\n",
        "  # Iteration über alle Schritte\n",
        "  for i in range(steps):\n",
        "    # Hinzufügen einer neuen Approximierung (xi+1,yi+1), gemäß dem Verfahren\n",
        "    result.append(\n",
        "        (\n",
        "         pi[0]+stepSize,               # x-Koordinate\n",
        "         pi[1]+stepSize*f(pi[0],pi[1]) # y-Koordinate\n",
        "        )\n",
        "    )\n",
        "    # Aktualisierung der akutellen Approximierung\n",
        "    pi = result[i+1]\n",
        "  # Rückgabe der Approximierungen und einer Identifikation\n",
        "  return result,\"Euler\""
      ]
    },
    {
      "cell_type": "markdown",
      "source": [
        "## Euler-Cromer-Verfahren\n",
        "$$y_{i+1} = y_i+ hf(x_i+h,y_i + hf(x_i,y_i))$$"
      ],
      "metadata": {
        "id": "KrEU4AhTBiVy"
      }
    },
    {
      "cell_type": "code",
      "source": [
        "# f: DGL\n",
        "# startPoint: (x,y) Anfangswertepaar\n",
        "# stepSize: Schrittegröße\n",
        "# steps: Anzahl an Schritten\n",
        "def eulerCromerMethod(f,startPoint,stepSize,steps):\n",
        "  # Liste an Punkten: [(x0,y0),...,(xn,yn)]\n",
        "  result = [startPoint,]\n",
        "  # Aktuelle Approximierung\n",
        "  pi = startPoint\n",
        "  # Iteration über alle Schritte\n",
        "  for i in range(steps):\n",
        "    # Hinzufügen einer neuen Approximierung (xi+1,yi+1), gemäß dem Verfahren\n",
        "    result.append(\n",
        "        (\n",
        "         pi[0]+stepSize,                                      # x-Koordinate\n",
        "         pi[1]+stepSize*f(pi[0]+stepSize,pi[1]+f(pi[0],pi[1]))# y-Koordinate\n",
        "        )\n",
        "    )\n",
        "    # Aktualisierung der akutellen Approximierung\n",
        "    pi = result[i+1]\n",
        "  # Rückgabe der Approximierungen und einer Identifikation\n",
        "  return result,\"Euler-Cromer\""
      ],
      "metadata": {
        "id": "yYhAB3kBCBtP"
      },
      "execution_count": null,
      "outputs": []
    },
    {
      "cell_type": "markdown",
      "source": [
        "## Heun-Verfahren\n",
        "$$y_{i+1} = y_i+ \\frac{h}{2}(f(x_i,y_i)+f(x_i+h,y_i+hf(x_i,y_i)))$$"
      ],
      "metadata": {
        "id": "UsuLgeiwCJba"
      }
    },
    {
      "cell_type": "code",
      "source": [
        "# f: DGL\n",
        "# startPoint: (x,y) Anfangswertepaar\n",
        "# stepSize: Schrittegröße\n",
        "# steps: Anzahl an Schritten\n",
        "def heunMethod(f,startPoint,stepSize,steps):\n",
        "  # Liste an Punkten: [(x0,y0),...,(xn,yn)]\n",
        "  result = [startPoint,]\n",
        "  # Aktuelle Approximierung\n",
        "  pi = startPoint\n",
        "  # Iteration über alle Schritte\n",
        "  for i in range(steps):\n",
        "    # Hinzufügen einer neuen Approximierung (xi+1,yi+1), gemäß dem Verfahren\n",
        "    result.append(\n",
        "        (\n",
        "         pi[0]+stepSize,\n",
        "         pi[1]+stepSize/2*(f(pi[0],pi[1])+f(pi[0]+stepSize,pi[1]+stepSize*f(pi[0],pi[1])))\n",
        "        )\n",
        "    )\n",
        "    # Aktualisierung der akutellen Approximierung\n",
        "    pi = result[i+1]\n",
        "  # Rückgabe der Approximierungen und einer Identifikation\n",
        "  return result,\"Heun\""
      ],
      "metadata": {
        "id": "H-mpHoEPDRGK"
      },
      "execution_count": null,
      "outputs": []
    },
    {
      "cell_type": "markdown",
      "source": [
        "## Runge-Kutta 2er Ordnung \n",
        "Dieses Verfahren ist etwas präziser als das Heun-Verfahren, da die \"echte\" Steigung auf der Hälfte zum nächsten Zeitschritt errechnet wird und nicht der Mittelwert zweier Steigungen genutzt wird. Dieser \"echte\" Wert, wird mithilfe des Euler-Verfahrens angenährt, indem ein halber Schritt gegangen wird.\n",
        "$$K_0 = hf(x,y)$$\n",
        "$$K_1 = hf(x+\\frac{h}{2},y+\\frac{K_0}{2})$$\n",
        "$$y_{i+1} = y_i + K_1$$\n"
      ],
      "metadata": {
        "id": "6Gv_XuHVYg5A"
      }
    },
    {
      "cell_type": "code",
      "source": [
        "# f: DGL\n",
        "# startPoint: (x,y) Anfangswertepaar\n",
        "# stepSize: Schrittegröße\n",
        "# steps: Anzahl an Schritten\n",
        "def rk2(f,startPoint,stepSize,steps):\n",
        "  # Liste an Punkten: [(x0,y0),...,(xn,yn)]\n",
        "  result = [startPoint]\n",
        "  # Aktuelle Approximierung\n",
        "  pi = startPoint\n",
        "  # Iteration über alle Schritte\n",
        "  for i in range(steps):\n",
        "    # Runge-Kutta-Terme\n",
        "    k0 = stepSize * f(pi[0],pi[1])\n",
        "    k1 = stepSize * f(pi[0]+stepSize/2,pi[1]+k0/2)\n",
        "    # Hinzufügen einer neuen Approximierung (xi+1,yi+1), gemäß dem Verfahren\n",
        "    result.append((pi[0]+stepSize,pi[1]+k1))\n",
        "    # Aktualisierung der akutellen Approximierung\n",
        "    pi = result[i+1]\n",
        "  # Rückgabe der Approximierungen und einer Identifikation\n",
        "  return result,\"RK2\""
      ],
      "metadata": {
        "id": "-458daMzYvir"
      },
      "execution_count": null,
      "outputs": []
    },
    {
      "cell_type": "markdown",
      "source": [
        "## Runge-Kutta 4er Ordnung \n",
        "$$K_0 = hf(x,y)$$\n",
        "$$K_1 = hf(x+\\frac{h}{2},y+\\frac{K_0}{2})$$\n",
        "$$K_2 = hf(x+\\frac{h}{2},y+\\frac{K_1}{2})$$\n",
        "$$K_3 = hf(x+h,y+K_2)$$\n",
        "$$y_{i+1} = y_i + \\frac{1}{6}(K_0 + 2K_1 + 2K_2 + K_3)$$"
      ],
      "metadata": {
        "id": "TAbu7BfwWoF_"
      }
    },
    {
      "cell_type": "code",
      "source": [
        "# f: DGL\n",
        "# startPoint: (x,y) Anfangswertepaar\n",
        "# stepSize: Schrittegröße\n",
        "# steps: Anzahl an Schritten\n",
        "def rk4(f,startPoint,stepSize,steps):\n",
        "  # Liste an Approximierungen\n",
        "  result = [startPoint]\n",
        "  # Aktuelle Approximierung\n",
        "  pi = startPoint\n",
        "  # Iteration über alle Schritte\n",
        "  for i in range(steps):\n",
        "    # Runge-Kutta-Terme\n",
        "    k0 = stepSize * f(pi[0],pi[1])\n",
        "    k1 = stepSize * f(pi[0]+stepSize/2,pi[1]+k0/2)\n",
        "    k2 = stepSize * f(pi[0]+stepSize/2,pi[1]+k1/2)\n",
        "    k3 = stepSize * f(pi[0]+stepSize, pi[1]+k2)\n",
        "    # Hinzufügen einer neuen Approximierung (xi+1,yi+1), gemäß dem Verfahren\n",
        "    result.append((pi[0]+stepSize,pi[1]+1/6*(k0+2*k1+2*k2+k3)))\n",
        "    # Aktualisierung der akutellen Approximierung\n",
        "    pi = result[i+1]\n",
        "  # Rückgabe der Approximierungen und einer Identifikation\n",
        "  return result,\"RK4\""
      ],
      "metadata": {
        "id": "FZh8-63SXeD_"
      },
      "execution_count": null,
      "outputs": []
    },
    {
      "cell_type": "markdown",
      "source": [
        "## Bulirsch-Stoer \n",
        "(siehe \"*Numerical Methods in Engineering with Python 3*\" (*Jaan Kiusalaas*))  \n",
        "Auf Basis der *Richardson-Extrapolation* und dem *Modifizierten-Mittelpunkt-Verfahren*.\n",
        "### Modifiziertes Mittelpunkt Verfahren\n",
        "Erster Schritt:  \n",
        "$$y_1 = y_0 + h f(x_0,y_0)$$\n",
        "Alle anderen Schritt:  \n",
        "$$y_{i+1} = y_{i-1} + 2hf(t_i,y_i)$$  \n",
        "Letzter Schritt:  \n",
        "$$y_{n-1} = \\frac{1}{2}\\cdot (y_{n-2} + y_{n-3} + hf(t_{n-2},y_{n-2}))$$"
      ],
      "metadata": {
        "id": "XXG-ortmXs4A"
      }
    },
    {
      "cell_type": "code",
      "source": [
        "# NACH: *Numerical Methods in Engineering with Python 3*\n",
        "# f: DGL\n",
        "# startPoint: (x,y) Anfangswertepaar\n",
        "# xStop: Endwert für x\n",
        "# tol: Toleranz des maximalen Fehlers\n",
        "def midpointExtrapolation(f,startPoint,xStop,tol):\n",
        "  # Funktion für den \"normalen\" Integrationsprozess\n",
        "  # (modifiziertes Mittelpunkt Verfahren)\n",
        "  def modifiedMidpoint(f,startPoint,xStop,steps):\n",
        "    # Ermitteln der Schrittweite\n",
        "    stepSize = (xStop - startPoint[0])/steps\n",
        "    # Festlegen des x-Wertes\n",
        "    x = startPoint[0]\n",
        "    # Festlegen des ersten y-Wertes\n",
        "    y0 = startPoint[1]\n",
        "    # Berechnen des zweiten y-Wertes (mit Euler-Verfahren)\n",
        "    y1 = y0 + stepSize*f(startPoint[0],y0)\n",
        "    # Iteration über die restlichen Schritte\n",
        "    for i in range(steps-1):\n",
        "      # Aktualisieren des x-Wertes\n",
        "      x=x+stepSize\n",
        "      # Berechnen des aktuellen y-Wertes\n",
        "      y2 = y0 + 2.0*stepSize*f(x,y1)\n",
        "      # Aktualisieren des vorletzten y-Wertes\n",
        "      y0 = y1\n",
        "      # Aktualisieren des letzten y-Wertes\n",
        "      y1 = y2\n",
        "    # Zurückgeben des letzten y-Wertes gemäß des modifizierten Mittelpunkt Verfahrens\n",
        "    return 0.5*(y1 + y0 + stepSize*f(x,y2))\n",
        "  # Richardson-Extrapolation der berechneten Werte\n",
        "  def richardson(r,k):\n",
        "    # Iteration über alle bisherigen Ergbnisse\n",
        "    for j in range(k-1,0,-1):\n",
        "      # Berechnen des konstanten Faktor (siehe Richardson-Extrapolations-Formel)\n",
        "      const = (k/(k - 1.0))**(2.0*(k-j))\n",
        "      # Zuweisen eines neuen Wertes (mutieren der Liste)\n",
        "      r[j] = (const*r[j+1] - r[j])/(const - 1.0)\n",
        "  # Maximaler Wert für k (2*k := Unterteilungen des Intervalls [x,x+h])\n",
        "  kMax = 51\n",
        "  # Liste von 51 Werten (=> Liste der maximal 51, auf 0 extrapolierten Werte)\n",
        "  r = np.zeros(kMax)\n",
        "  # Start mit 2 Sub-Divisionen des Integrationsintervalls \n",
        "  n = 2\n",
        "  # Erste Integration mit 2 Sub-Divisionen\n",
        "  r[1] = modifiedMidpoint(f,startPoint,xStop,n)\n",
        "  # Speichern des letzten genausten r's\n",
        "  lastR = r[1].copy()\n",
        "  # Erhöhen der Sub-Divisionen (n) um 2\n",
        "  # => Wiederholtes Extrapolieren auf Schrittgröße 0 (n->inf)\n",
        "  # Wenn die Differenz des vorherigen extrapolierten Wertes und des aktuellen Wertes,\n",
        "  # kleiner als tol ist, dann ist der Integrationsschritt abgeschlossen\n",
        "  for k in range(2,kMax):\n",
        "    # Festlegen der Anzahl an Sub-Divisionen\n",
        "    n = 2*k\n",
        "    # Integration mit n Schritten\n",
        "    r[k] = modifiedMidpoint(f,startPoint,xStop,n)\n",
        "    # Extrapolieren mit der Richardson-Extrapolation\n",
        "    richardson(r,k)\n",
        "    # Berechnen des Fehlers\n",
        "    e = sqrt(np.sum((r[1] - lastR)**2))\n",
        "    # Überprüfen der Toleranz-Schwelle\n",
        "    if e < tol:\n",
        "      # Wenn Toleranz unterschritten wurde, wird der extrapolierte Wert zurückgegeben\n",
        "      return r[1]\n",
        "    # Festelgen des letzten genausten r's\n",
        "    lastR = r[1].copy()"
      ],
      "metadata": {
        "id": "4ZSUjkBCbTVD"
      },
      "execution_count": null,
      "outputs": []
    },
    {
      "cell_type": "code",
      "source": [
        "# f: DGL\n",
        "# startPoint: (x,y) Anfangswertepaar\n",
        "# xStop: Endwert für x\n",
        "# stepSize: Schrittegröße\n",
        "# tol: Toleranz des maximalen Fehlers\n",
        "def bulirschStoerMethod(f,startPoint,xStop,stepSize,tol=1.0e-6):\n",
        "  # Liste an Approximierungen\n",
        "  result = [startPoint]\n",
        "  # Aktuelle Approximierung\n",
        "  x = startPoint[0]\n",
        "  y = startPoint[1]\n",
        "  # Iteration bis xStop erreicht wird\n",
        "  while x < xStop:\n",
        "    # Integrieren & Extrapolieren, für einen neuen y-Wert unter Toleranz\n",
        "    y = midpointExtrapolation(f,(x,y),x+stepSize,tol)\n",
        "    # Berechnen der neuen x-Koordinate\n",
        "    x = x + stepSize\n",
        "    result.append((x,y))\n",
        "  # Rückgabe der Approximierungen und einer Identifikation\n",
        "  return result, \"Bulirsch-Stoer mit Toleranz: {:e}\".format(tol)"
      ],
      "metadata": {
        "id": "NBp1J-cbqsvV"
      },
      "execution_count": null,
      "outputs": []
    },
    {
      "cell_type": "markdown",
      "source": [
        "## Integrationsprozess\n"
      ],
      "metadata": {
        "id": "9zjSCKkwDeiD"
      }
    },
    {
      "cell_type": "code",
      "source": [
        "# Importieren von Bibliotheken\n",
        "# Numpy für das Benutzen von speziellen Arrays\n",
        "import numpy as np \n",
        "# Matplotlib für die Darstellung von Daten in einem Plot\n",
        "import matplotlib.pyplot as plt\n",
        "# Anzeigen eines Plots, direkt im Jupyter Notebook (\"inline\")\n",
        "%matplotlib inline"
      ],
      "metadata": {
        "id": "Dara-tosDh4-"
      },
      "execution_count": null,
      "outputs": []
    },
    {
      "cell_type": "code",
      "source": [
        "# Einstellen der Anzahl an Nachkommastellen der Gleitkommazahlen\n",
        "mp.dps = 50\n",
        "# Differentialgleichung I\n",
        "# f = lambda x,y: cos(x)\n",
        "# Differentialgleichung II\n",
        "f = lambda x,y: e**(mp.cos(x)) * (2*x*mp.cos(x*x) - sin(x) * sin(x*x))\n",
        "# Lösung von DGL I\n",
        "# solution = lambda x: sin(x)\n",
        "# Lösung von DGL II\n",
        "solution = lambda x: e**(mp.cos(x)) * mp.sin(x*x)\n",
        "# Anfangswertepaar\n",
        "startPoint = np.array([mpf(0),mpf(0)])\n",
        "startPoint[1] = solution(startPoint[0])\n",
        "# Schrittgröße\n",
        "stepSize = 1e-3\n",
        "# Anzahl an Schritten\n",
        "steps = 10000\n",
        "# Erstellung von einer Lösung (x-Wert-Liste, y-Wert-Liste)\n",
        "x = np.linspace(0,stepSize*steps+1,100)\n",
        "y = [solution(px) for px in x]"
      ],
      "metadata": {
        "id": "EU6KhXfmD36S"
      },
      "execution_count": null,
      "outputs": []
    },
    {
      "cell_type": "code",
      "source": [
        "# Liste an Integrations-Verfahren, welche eingesetzt werden\n",
        "integrators = [eulerMethod,eulerCromerMethod,heunMethod,rk2,rk4]"
      ],
      "metadata": {
        "id": "wK61BgH5ENxV"
      },
      "execution_count": null,
      "outputs": []
    },
    {
      "cell_type": "code",
      "source": [
        "# Liste an Ergebnissen\n",
        "results = []\n",
        "# Ausführen der Integration für alle Integrations-Verfahren\n",
        "for integrator in integrators:\n",
        "  result = integrator(f,startPoint,stepSize,steps)\n",
        "  results.append(result)"
      ],
      "metadata": {
        "id": "CvHI_GABvK5u"
      },
      "execution_count": null,
      "outputs": []
    },
    {
      "cell_type": "code",
      "source": [
        "# Integration mit dem Bulirsch-Stoer-Verfahren (tol = 1e-10)\n",
        "results.append(bulirschStoerMethod(f,startPoint,steps*stepSize,stepSize,tol=1e-10))"
      ],
      "metadata": {
        "id": "f7xN01rXWc-o"
      },
      "execution_count": null,
      "outputs": []
    },
    {
      "cell_type": "code",
      "source": [
        "# Integration mit dem Bulirsch-Stoer-Verfahren (tol = 1e-6)\n",
        "results.append(bulirschStoerMethod(f,startPoint,steps*stepSize,stepSize,tol=1e-6))"
      ],
      "metadata": {
        "id": "7jNOZdv0WfxF"
      },
      "execution_count": null,
      "outputs": []
    },
    {
      "cell_type": "markdown",
      "source": [
        "## Vergleich der Ergebnisse"
      ],
      "metadata": {
        "id": "5HA5wAnvE28V"
      }
    },
    {
      "cell_type": "code",
      "source": [
        "# 10x10 Plotsize\n",
        "plt.rcParams['figure.figsize'] = [10, 10]\n",
        "# Erstellen einer Figur\n",
        "fig = plt.figure()\n",
        "# Hinzufügen eines Plots\n",
        "ax = fig.add_subplot()\n",
        "# Liste von verschiedenen Linientypen (für bessere Visibilität von überlappenden Linien)\n",
        "lines = [(0, (1, 0.5)),\"--\"]\n",
        "# Iteration über alle Ergebnisse\n",
        "for result in range(len(results)):\n",
        "  # Plotten jedes Ergebnisses\n",
        "  ax.plot([p[0] for p in results[result][0]],[abs(p[1]-solution(p[0])) for p in results[result][0]],label=results[result][1],ls=lines[result % len(lines)],lw=2.7)\n",
        "# Logarithmische Skalierung\n",
        "ax.set_yscale('log')\n",
        "# Beschriften \n",
        "#ax.set_ylabel('$|\\cos{x}- y(x)_{num}|$',fontsize=16)\n",
        "ax.set_ylabel('$|e^{\\cos{x}} \\cdot \\sin{x^2}- y(x)_{num}|$',fontsize=16)\n",
        "ax.set_xlabel('x-Achse',fontsize=16)\n",
        "ax.set_title('Numerisches Lösen mit verschiedenen Integrationsverfahren',fontsize=16, pad=20)\n",
        "ax.legend()\n",
        "plt.show()\n",
        "# Speichern der Figur\n",
        "fig.savefig('dgl-abs-error.pdf')"
      ],
      "metadata": {
        "id": "s48DEvE1E4Yx"
      },
      "execution_count": null,
      "outputs": []
    },
    {
      "cell_type": "markdown",
      "source": [
        "Ergebnisse:  \n",
        "<img src=\"https://drive.google.com/uc?export=view&id=1sti3BslSekD1Sy3YZL4myjEPnp-s2Dr1\" width=\"400\"/>\n",
        "<img src=\"https://drive.google.com/uc?export=view&id=1Tzgjv0Vv_FGfwnDA6mJamcSsMg_eQbk1\" width=\"400\"/>"
      ],
      "metadata": {
        "id": "wl-xtsPX3Qg3"
      }
    },
    {
      "cell_type": "markdown",
      "source": [
        "## Abhängigkeit des Fehlers von der Schrittgröße\n",
        "Hierbei soll die Abhängigkeit bzw. das Wachstum des Fehlers bei einer Veränderung der Schrittgröße untersucht werden. "
      ],
      "metadata": {
        "id": "57mwgDpUOsZY"
      }
    },
    {
      "cell_type": "code",
      "source": [
        "import math\n",
        "# Liste an zu untersuchenden Schrittgrößen\n",
        "stepSizes = [1e-4,2e-4,3e-4,4e-4,5e-4]\n",
        "# Letzter x-Wert\n",
        "xStop = 10\n",
        "# Ergebnisse mit den verschiedenen Schrittgrößen\n",
        "stepSizeResults = []\n",
        "# Liste an Integraten, welche genutzt werden sollen\n",
        "integrators = [eulerCromerMethod,heunMethod,rk2,rk4]\n",
        "# Iteration über alle Integratoren\n",
        "for integrator in integrators:\n",
        "  # Liste an Ergebnissen aller Integratoren\n",
        "  res = []\n",
        "  # Iteration über alle Schrittgrößen\n",
        "  for stepSize in stepSizes:\n",
        "    # Integrieren mit jeweiligem Integrator + Schrittgröße\n",
        "    r = integrator(f,startPoint,stepSize,math.ceil(xStop/stepSize))\n",
        "    # Hinzufügen zu Liste an Ergebnissen dieses Integrators\n",
        "    res.append(r[0])\n",
        "  # Hinzufügen der Ergebnisse dieses Integrators, zu allgemeinen Ergebnissen\n",
        "  stepSizeResults.append([res,r[1]])"
      ],
      "metadata": {
        "id": "AXTInBnAhY-R"
      },
      "execution_count": null,
      "outputs": []
    },
    {
      "cell_type": "markdown",
      "source": [
        "Der Mittelwert des absoluten Fehlers soll berechnet werden:"
      ],
      "metadata": {
        "id": "0b18WdK1IauX"
      }
    },
    {
      "cell_type": "code",
      "source": [
        "# Liste der Mittelwerte\n",
        "avgErr = []\n",
        "# Iteration über alle Integrationen\n",
        "for i in range(len(stepSizeResults)):\n",
        "  # Liste der Mittelwerte für das iterierte Verfahren wird hinzugefügt\n",
        "  avgErr.append([])\n",
        "  for j in range(len(stepSizeResults[i][0])):\n",
        "    avgErr[i].append(sum([abs(p[1]-solution(p[0])) for p in stepSizeResults[i][0][j]])/len(stepSizeResults[i][0][j]))"
      ],
      "metadata": {
        "id": "K7VgYi7bPxXD"
      },
      "execution_count": null,
      "outputs": []
    },
    {
      "cell_type": "code",
      "source": [
        "# Ändern der Größe des Plots\n",
        "plt.rcParams['figure.figsize'] = [10, 10]\n",
        "# Erstellen eines Plots\n",
        "fig,ax = plt.subplots(2,2)\n",
        "for result in range(len(stepSizeResults)):\n",
        "  ax[result//2][result%2].plot(stepSizes,avgErr[result],label=stepSizeResults[result][1], alpha=1 ,lw=2.7)\n",
        "  ax[result//2][result%2].set_title(stepSizeResults[result][1])\n",
        "  ax[result//2][result%2].set_ylabel('$\\overline{err}_{abs}$')\n",
        "  ax[result//2][result%2].set_xlabel('Schrittgröße $h$')\n",
        "  ax[result//2][result%2].ticklabel_format(axis=\"x\", style=\"sci\", scilimits=(0,0))\n",
        "fig.tight_layout()\n",
        "plt.show()\n",
        "fig.savefig('stepSizes.pdf')"
      ],
      "metadata": {
        "id": "FcypCaUbPlm8"
      },
      "execution_count": null,
      "outputs": []
    },
    {
      "cell_type": "markdown",
      "source": [
        "Ergebnisse:  \n",
        "<img src=\"https://drive.google.com/uc?export=view&id=1Fq8SVkBC1NUUqqIOnfvo5s0EnNcSVsEA\" width=\"400\"/>"
      ],
      "metadata": {
        "id": "Dm_ZObp43tB2"
      }
    },
    {
      "cell_type": "code",
      "source": [],
      "metadata": {
        "id": "J6jCiVUXsG1f"
      },
      "execution_count": null,
      "outputs": []
    }
  ]
}